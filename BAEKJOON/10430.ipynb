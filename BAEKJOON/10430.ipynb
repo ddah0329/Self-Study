{
  "nbformat": 4,
  "nbformat_minor": 0,
  "metadata": {
    "colab": {
      "provenance": [],
      "authorship_tag": "ABX9TyPl/VEdBwSyLQQasSdvUHIX",
      "include_colab_link": true
    },
    "kernelspec": {
      "name": "python3",
      "display_name": "Python 3"
    },
    "language_info": {
      "name": "python"
    }
  },
  "cells": [
    {
      "cell_type": "markdown",
      "metadata": {
        "id": "view-in-github",
        "colab_type": "text"
      },
      "source": [
        "<a href=\"https://colab.research.google.com/github/ddah0329/Self-Study/blob/main/BAEKJOON/Python/10430.ipynb\" target=\"_parent\"><img src=\"https://colab.research.google.com/assets/colab-badge.svg\" alt=\"Open In Colab\"/></a>"
      ]
    },
    {
      "cell_type": "markdown",
      "source": [
        "#나머지\n",
        "\n",
        "### - 문제\n",
        "(A+B)%C는 ((A%C) + (B%C))%C 와 같을까?\n",
        "\n",
        "(A×B)%C는 ((A%C) × (B%C))%C 와 같을까?\n",
        "\n",
        "세 수 A, B, C가 주어졌을 때, 위의 네 가지 값을 구하는 프로그램을 작성하시오.\n",
        "\n",
        "### - 입력\n",
        "첫째 줄에 A, B, C가 순서대로 주어진다. (2 ≤ A, B, C ≤ 10000)\n",
        "\n",
        "### - 출력\n",
        "첫째 줄에 (A+B)%C, 둘째 줄에 ((A%C) + (B%C))%C, 셋째 줄에 (A×B)%C, 넷째 줄에 ((A%C) × (B%C))%C를 출력한다.\n",
        "\n",
        "### - 예제\n",
        "\n",
        "| 예제 입력 | 예제 출력 |\n",
        "|---|---|\n",
        "| 5 8 4 | 1<br>1<br>0<br>0 |\n",
        "\n",
        "<br>\n",
        "\n",
        "> [백준 10430번](https://www.acmicpc.net/problem/10430)"
      ],
      "metadata": {
        "id": "IUzqHcxTTp1k"
      }
    },
    {
      "cell_type": "markdown",
      "source": [
        "# ⬇️ 최종 답안"
      ],
      "metadata": {
        "id": "RFR8-DsO1MUV"
      }
    },
    {
      "cell_type": "code",
      "source": [
        "a,b,c = map(int, input().split())\n",
        "print((a+b)%c)\n",
        "print(((a%c)+(b%c))%c)\n",
        "print((a*b)%c)\n",
        "print(((a%c)*(b%c))%c)"
      ],
      "metadata": {
        "colab": {
          "base_uri": "https://localhost:8080/"
        },
        "id": "T-_xYwfJ4gJW",
        "outputId": "b1cfca44-6f32-497f-da0a-92625bdf9a0d"
      },
      "execution_count": 1,
      "outputs": [
        {
          "output_type": "stream",
          "name": "stdout",
          "text": [
            "5 8 4\n",
            "1\n",
            "1\n",
            "0\n",
            "0\n"
          ]
        }
      ]
    }
  ]
}
