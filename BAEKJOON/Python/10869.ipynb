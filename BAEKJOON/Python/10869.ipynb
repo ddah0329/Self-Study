{
  "nbformat": 4,
  "nbformat_minor": 0,
  "metadata": {
    "colab": {
      "provenance": [],
      "authorship_tag": "ABX9TyMZm5Dd0naXiq+PEJMMsMdv",
      "include_colab_link": true
    },
    "kernelspec": {
      "name": "python3",
      "display_name": "Python 3"
    },
    "language_info": {
      "name": "python"
    }
  },
  "cells": [
    {
      "cell_type": "markdown",
      "metadata": {
        "id": "view-in-github",
        "colab_type": "text"
      },
      "source": [
        "<a href=\"https://colab.research.google.com/github/ddah0329/Self-Study/blob/main/BAEKJOON/Python/10869.ipynb\" target=\"_parent\"><img src=\"https://colab.research.google.com/assets/colab-badge.svg\" alt=\"Open In Colab\"/></a>"
      ]
    },
    {
      "cell_type": "markdown",
      "source": [
        "###사칙연산\n",
        "####두 자연수 A와 B가 주어진다. 이때, A+B, A-B, A*B, A/B(몫), A%B(나머지)를 출력하는 프로그램을 작성하시오.\n",
        "####두 자연수 A와 B가 주어진다. (1 ≤ A, B ≤ 10,000)\n",
        "####첫째 줄에 A+B, 둘째 줄에 A-B, 셋째 줄에 A*B, 넷째 줄에 A/B, 다섯째 줄에 A%B를 출력한다.\n",
        "\n",
        "[백준 10869번](https://www.acmicpc.net/problem/10869)\n"
      ],
      "metadata": {
        "id": "IUzqHcxTTp1k"
      }
    },
    {
      "cell_type": "code",
      "source": [
        "a, b = map(int, input().split())\n",
        "print(a+b)\n",
        "print(a-b)\n",
        "print(a*b)\n",
        "print(int(a/b)) # a/b : float # a//b : int\n",
        "print(a%b)"
      ],
      "metadata": {
        "colab": {
          "base_uri": "https://localhost:8080/"
        },
        "id": "jenFnwYWXYTg",
        "outputId": "ce1d728a-5432-4e93-83f6-68429a51218b"
      },
      "execution_count": 4,
      "outputs": [
        {
          "output_type": "stream",
          "name": "stdout",
          "text": [
            "7 3\n",
            "10\n",
            "4\n",
            "21\n",
            "2\n",
            "1\n"
          ]
        }
      ]
    },
    {
      "cell_type": "code",
      "source": [
        "a,b = input().split()\n",
        "a = int(a)\n",
        "b = int(b)\n",
        "\n",
        "print(f\"{a+b} \\n{a-b} \\n{a*b} \\n{a//b} \\n{a%b}\")"
      ],
      "metadata": {
        "colab": {
          "base_uri": "https://localhost:8080/"
        },
        "id": "A-F-1uhrbfRv",
        "outputId": "9f63c878-3b8b-4473-b9a0-e819e80c6edb"
      },
      "execution_count": 6,
      "outputs": [
        {
          "output_type": "stream",
          "name": "stdout",
          "text": [
            "7 3\n",
            "10 \n",
            "4 \n",
            "21 \n",
            "2 \n",
            "1\n"
          ]
        }
      ]
    }
  ]
}