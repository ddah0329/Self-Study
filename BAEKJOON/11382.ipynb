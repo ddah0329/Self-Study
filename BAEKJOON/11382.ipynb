{
  "nbformat": 4,
  "nbformat_minor": 0,
  "metadata": {
    "colab": {
      "provenance": [],
      "authorship_tag": "ABX9TyOX2fV5Wf1h1eI+O9wufkh6",
      "include_colab_link": true
    },
    "kernelspec": {
      "name": "python3",
      "display_name": "Python 3"
    },
    "language_info": {
      "name": "python"
    }
  },
  "cells": [
    {
      "cell_type": "markdown",
      "metadata": {
        "id": "view-in-github",
        "colab_type": "text"
      },
      "source": [
        "<a href=\"https://colab.research.google.com/github/ddah0329/Self-Study/blob/main/BAEKJOON/Python/11382.ipynb\" target=\"_parent\"><img src=\"https://colab.research.google.com/assets/colab-badge.svg\" alt=\"Open In Colab\"/></a>"
      ]
    },
    {
      "cell_type": "markdown",
      "source": [
        "#꼬마 정민\n",
        "\n",
        "### - 문제\n",
        "꼬마 정민이는 이제 A + B 정도는 쉽게 계산할 수 있다. 이제 A + B + C를 계산할 차례이다!\n",
        "\n",
        "### - 입력\n",
        "첫 번째 줄에 A, B, C (1 ≤ A, B, C ≤ 1012)이 공백을 사이에 두고 주어진다.\n",
        "\n",
        "### - 출력\n",
        "A+B+C의 값을 출력한다.\n",
        "\n",
        "### - 예제\n",
        "\n",
        "| 예제 입력 | 예제 출력 |\n",
        "|---|---|\n",
        "| 77 77 777 | 7931|\n",
        "\n",
        "<br>\n",
        "\n",
        "> [백준 11382번](https://www.acmicpc.net/problem/11382)"
      ],
      "metadata": {
        "id": "IUzqHcxTTp1k"
      }
    },
    {
      "cell_type": "markdown",
      "source": [
        "# ⬇️ 최종 답안"
      ],
      "metadata": {
        "id": "RFR8-DsO1MUV"
      }
    },
    {
      "cell_type": "code",
      "source": [
        "a, b, c = map(int, input().split())\n",
        "\n",
        "print(a+b+c)"
      ],
      "metadata": {
        "colab": {
          "base_uri": "https://localhost:8080/"
        },
        "id": "jTGMAjINZjQm",
        "outputId": "ce77dc51-769d-4355-f0cf-1b9453ccaf78"
      },
      "execution_count": 1,
      "outputs": [
        {
          "output_type": "stream",
          "name": "stdout",
          "text": [
            "77 77 7777\n",
            "7931\n"
          ]
        }
      ]
    }
  ]
}
