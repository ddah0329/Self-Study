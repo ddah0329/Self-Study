{
  "nbformat": 4,
  "nbformat_minor": 0,
  "metadata": {
    "colab": {
      "provenance": [],
      "authorship_tag": "ABX9TyOPdUKhvahkg2atgQY6HmlG",
      "include_colab_link": true
    },
    "kernelspec": {
      "name": "python3",
      "display_name": "Python 3"
    },
    "language_info": {
      "name": "python"
    }
  },
  "cells": [
    {
      "cell_type": "markdown",
      "metadata": {
        "id": "view-in-github",
        "colab_type": "text"
      },
      "source": [
        "<a href=\"https://colab.research.google.com/github/ddah0329/Self-Study/blob/main/BAEKJOON/Python/1000.ipynb\" target=\"_parent\"><img src=\"https://colab.research.google.com/assets/colab-badge.svg\" alt=\"Open In Colab\"/></a>"
      ]
    },
    {
      "cell_type": "markdown",
      "source": [
        "###A+B\n",
        "####두 정수 A와 B를 입력받은 다음, A+B를 출력하는 프로그램을 작성하시오.\n",
        "####첫째 줄에 A와 B가 주어진다. (0 < A, B < 10)\n",
        "####첫째 줄에 A+B를 출력한다.\n",
        "\n",
        "[백준 1000번](https://www.acmicpc.net/problem/1000)\n"
      ],
      "metadata": {
        "id": "IUzqHcxTTp1k"
      }
    },
    {
      "cell_type": "code",
      "execution_count": 10,
      "metadata": {
        "colab": {
          "base_uri": "https://localhost:8080/"
        },
        "id": "roYmxR90LVpZ",
        "outputId": "24616e17-0ed3-430e-b15e-6e305730260f"
      },
      "outputs": [
        {
          "output_type": "stream",
          "name": "stdout",
          "text": [
            "3 4\n",
            "7\n"
          ]
        }
      ],
      "source": [
        "a, b = map(int, input().split())\n",
        "print(a+b)"
      ]
    },
    {
      "cell_type": "code",
      "source": [
        "A, B = input().split() # 입력되는 문자를 input()함수로 입력받고, split()함수로 나누어 A,B 변수에 저장\n",
        "print(int(A)+ int(B))"
      ],
      "metadata": {
        "colab": {
          "base_uri": "https://localhost:8080/"
        },
        "id": "lK6O3zEvSOLs",
        "outputId": "1407b6bb-4a73-482b-8c1a-099c314e794c"
      },
      "execution_count": 9,
      "outputs": [
        {
          "output_type": "stream",
          "name": "stdout",
          "text": [
            "5 7\n",
            "12\n"
          ]
        }
      ]
    }
  ]
}
