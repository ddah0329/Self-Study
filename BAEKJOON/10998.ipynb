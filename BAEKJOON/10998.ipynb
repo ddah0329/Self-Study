{
  "nbformat": 4,
  "nbformat_minor": 0,
  "metadata": {
    "colab": {
      "provenance": [],
      "authorship_tag": "ABX9TyNX0a68X1+cThdsCeeWj8if",
      "include_colab_link": true
    },
    "kernelspec": {
      "name": "python3",
      "display_name": "Python 3"
    },
    "language_info": {
      "name": "python"
    }
  },
  "cells": [
    {
      "cell_type": "markdown",
      "metadata": {
        "id": "view-in-github",
        "colab_type": "text"
      },
      "source": [
        "<a href=\"https://colab.research.google.com/github/ddah0329/Self-Study/blob/main/BAEKJOON/Python/10998.ipynb\" target=\"_parent\"><img src=\"https://colab.research.google.com/assets/colab-badge.svg\" alt=\"Open In Colab\"/></a>"
      ]
    },
    {
      "cell_type": "markdown",
      "source": [
        "###AxB\n",
        "####두 정수 A와 B를 입력받은 다음, AxB를 출력하는 프로그램을 작성하시오.\n",
        "####첫째 줄에 A와 B가 주어진다. (0 < A, B < 10)\n",
        "####첫째 줄에 AxB를 출력한다.\n",
        "\n",
        "[백준 10998번](https://www.acmicpc.net/problem/10998)\n"
      ],
      "metadata": {
        "id": "IUzqHcxTTp1k"
      }
    },
    {
      "cell_type": "code",
      "source": [
        "a, b = map(int, input().split())\n",
        "a * b"
      ],
      "metadata": {
        "colab": {
          "base_uri": "https://localhost:8080/"
        },
        "id": "Fjamm0pSVz54",
        "outputId": "a4865cd1-8e23-4b3a-e2ea-c9ca7af5c1b8"
      },
      "execution_count": 5,
      "outputs": [
        {
          "name": "stdout",
          "output_type": "stream",
          "text": [
            "3 2\n"
          ]
        },
        {
          "output_type": "execute_result",
          "data": {
            "text/plain": [
              "6"
            ]
          },
          "metadata": {},
          "execution_count": 5
        }
      ]
    },
    {
      "cell_type": "code",
      "source": [
        "a, b = input().split()\n",
        "print(int(a) * int(b))"
      ],
      "metadata": {
        "colab": {
          "base_uri": "https://localhost:8080/"
        },
        "id": "xZusO3_PV8Oh",
        "outputId": "01f2cb31-df8f-4105-b972-e8eebeeff15b"
      },
      "execution_count": 4,
      "outputs": [
        {
          "output_type": "stream",
          "name": "stdout",
          "text": [
            "3 2\n",
            "6\n"
          ]
        }
      ]
    },
    {
      "cell_type": "code",
      "source": [
        "a, b = map(int, input().split())\n",
        "\n",
        "if 0 > a or b > 10:\n",
        "    print(\"조건에 맞지 않습니다.\")\n",
        "else:\n",
        "    print(a * b)"
      ],
      "metadata": {
        "colab": {
          "base_uri": "https://localhost:8080/"
        },
        "id": "jenFnwYWXYTg",
        "outputId": "2072e3ed-758f-42e5-f419-8f820e88c2eb"
      },
      "execution_count": 12,
      "outputs": [
        {
          "output_type": "stream",
          "name": "stdout",
          "text": [
            "2 6\n",
            "12\n"
          ]
        }
      ]
    },
    {
      "cell_type": "markdown",
      "source": [
        "\n",
        "\n",
        "---\n",
        "\n",
        "input입력어 적었더니 조건 안맞아서 틀림 ㅠㅠ input()에 쓰지 않기! 조건을 항상 조심하자!"
      ],
      "metadata": {
        "id": "RRSbEjabYoHI"
      }
    },
    {
      "cell_type": "code",
      "source": [
        "a, b = map(int, input(\"정수 2개 입력: \").split())\n",
        "\n",
        "if 0 > a or b > 10:\n",
        "    print(\"조건에 맞지 않습니다.\")\n",
        "else:\n",
        "    print(a * b)"
      ],
      "metadata": {
        "colab": {
          "base_uri": "https://localhost:8080/"
        },
        "id": "iTweFTowWMej",
        "outputId": "0bdaeae2-86d4-44c8-f239-1bf9751c01bf"
      },
      "execution_count": 18,
      "outputs": [
        {
          "output_type": "stream",
          "name": "stdout",
          "text": [
            "정수 2개 입력: -1 4\n",
            "조건에 맞지 않습니다.\n"
          ]
        }
      ]
    }
  ]
}
