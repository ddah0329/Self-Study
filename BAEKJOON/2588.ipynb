{
  "nbformat": 4,
  "nbformat_minor": 0,
  "metadata": {
    "colab": {
      "provenance": [],
      "authorship_tag": "ABX9TyNf6uzY2Wej4DuBO24avs96",
      "include_colab_link": true
    },
    "kernelspec": {
      "name": "python3",
      "display_name": "Python 3"
    },
    "language_info": {
      "name": "python"
    }
  },
  "cells": [
    {
      "cell_type": "markdown",
      "metadata": {
        "id": "view-in-github",
        "colab_type": "text"
      },
      "source": [
        "<a href=\"https://colab.research.google.com/github/ddah0329/Self-Study/blob/main/BAEKJOON/Python/2588.ipynb\" target=\"_parent\"><img src=\"https://colab.research.google.com/assets/colab-badge.svg\" alt=\"Open In Colab\"/></a>"
      ]
    },
    {
      "cell_type": "markdown",
      "source": [
        "#나머지\n",
        "\n",
        "### - 문제\n",
        "(세 자리 수) × (세 자리 수)는 다음과 같은 과정을 통하여 이루어진다.\n",
        "\n",
        "![곱셈.png](data:image/png;base64,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)\n",
        "\n",
        "(1)과 (2)위치에 들어갈 세 자리 자연수가 주어질 때 (3), (4), (5), (6)위치에 들어갈 값을 구하는 프로그램을 작성하시오.\n",
        "\n",
        "### - 입력\n",
        "첫째 줄에 (1)의 위치에 들어갈 세 자리 자연수가, 둘째 줄에 (2)의 위치에 들어갈 세자리 자연수가 주어진다.\n",
        "\n",
        "### - 출력\n",
        "첫째 줄부터 넷째 줄까지 차례대로 (3), (4), (5), (6)에 들어갈 값을 출력한다.\n",
        "\n",
        "### - 예제\n",
        "\n",
        "| 예제 입력 | 예제 출력 |\n",
        "|---|---|\n",
        "| 472<br>385| 2360<br>3776<br>1416<br>181720|\n",
        "\n",
        "<br>\n",
        "\n",
        "> [백준 2588번](https://www.acmicpc.net/problem/2588)"
      ],
      "metadata": {
        "id": "IUzqHcxTTp1k"
      }
    },
    {
      "cell_type": "markdown",
      "source": [
        "#방법 1 : 산술 연산자 이용"
      ],
      "metadata": {
        "id": "ZEqT1NW8DcGe"
      }
    },
    {
      "cell_type": "code",
      "source": [
        "a, b = map(int, input().split())\n",
        "\n",
        "num3 = a * (b % 10)\n",
        "num4 = a * ((b%100)//10)\n",
        "num5 = a * (b//100)\n",
        "print(num3)\n",
        "print(num4)\n",
        "print(num5)\n",
        "\n",
        "print(a*b)"
      ],
      "metadata": {
        "colab": {
          "base_uri": "https://localhost:8080/"
        },
        "id": "T-_xYwfJ4gJW",
        "outputId": "e3fc1397-742b-4444-bc96-4857eaa8afb7"
      },
      "execution_count": null,
      "outputs": [
        {
          "output_type": "stream",
          "name": "stdout",
          "text": [
            "472 385\n",
            "2360\n",
            "3776\n",
            "1416\n",
            "181720\n"
          ]
        }
      ]
    },
    {
      "cell_type": "markdown",
      "source": [
        "# ⬆️ 해당 코드는 계속 런타임 에러가 떴다\n",
        "\n",
        "분명히 잘 되는데 왜 문제인지 고민했지만, 결국 답이 안나와서 질문을 올렸다.\n",
        "\n",
        "나에게 온 답변은 \"입력이 두 줄에 걸쳐 제공되기 때문입니다.\" 이러했다.\n",
        "\n",
        "입력? 두 줄? 이게 뭔 말이지? 라는 생각으로 예제를 보니 input()을 한꺼번에 하는 것이 아니라 두 번 나눠서 해야했기 떄문이다."
      ],
      "metadata": {
        "id": "Pt3PGo0NX_mR"
      }
    },
    {
      "cell_type": "markdown",
      "source": [
        "# ⬇️ 최종 답안"
      ],
      "metadata": {
        "id": "RFR8-DsO1MUV"
      }
    },
    {
      "cell_type": "code",
      "source": [
        "a = int(input())\n",
        "b = int(input())\n",
        "\n",
        "print(a * (b % 10))\n",
        "print(a * ((b%100)//10))\n",
        "print(a * (b//100))\n",
        "print(a*b)"
      ],
      "metadata": {
        "colab": {
          "base_uri": "https://localhost:8080/"
        },
        "outputId": "194ee9ae-3c63-4ddd-bc44-e33c49cb95ef",
        "id": "7AOU3CvD91tT"
      },
      "execution_count": 30,
      "outputs": [
        {
          "output_type": "stream",
          "name": "stdout",
          "text": [
            "472\n",
            "385\n",
            "2360\n",
            "3776\n",
            "1416\n",
            "181720\n"
          ]
        }
      ]
    },
    {
      "cell_type": "markdown",
      "source": [
        "# 방법 2 : 문자열 슬라이싱 이용\n"
      ],
      "metadata": {
        "id": "C0Oyj3vkDhLh"
      }
    },
    {
      "cell_type": "code",
      "source": [
        "# d를 문자열로 받아서 슬라이싱으로 값 계산하기\n",
        "# input을 따로 했기 때문에 각각 입력 받아야함!!\n",
        "c = int(input()) #type(int)\n",
        "d = input() #type(str)\n",
        "\n",
        "# 형변환 (str -> int) 후 계산\n",
        "n3 = c * int(d[2]) # d[2] = 5\n",
        "n4 = c * int(d[1]) # d[1] = 8\n",
        "n5 = c * int(d[0]) # d[0] = 3\n",
        "n6 = c * int(d)\n",
        "\n",
        "print(n3, n4, n5, n6, sep=\"\\n\")"
      ],
      "metadata": {
        "id": "5l69M9qnA_3M",
        "colab": {
          "base_uri": "https://localhost:8080/"
        },
        "outputId": "9340c6a2-e73b-4375-8794-0ed6267b41e3"
      },
      "execution_count": null,
      "outputs": [
        {
          "output_type": "stream",
          "name": "stdout",
          "text": [
            "472\n",
            "385\n",
            "2360\n",
            "3776\n",
            "1416\n",
            "181720\n"
          ]
        }
      ]
    },
    {
      "cell_type": "code",
      "source": [
        "# 세자리 수 조건 추가\n",
        "\n",
        "c = int(input())\n",
        "d = input()\n",
        "\n",
        "if len(d) == 3:\n",
        "    n3 = c * int(d[2])\n",
        "    n4 = c * int(d[1])\n",
        "    n5 = c * int(d[0])\n",
        "    n6 = c * int(d)\n",
        "\n",
        "    print(n3, n4, n5, n6, sep=\"\\n\")\n",
        "else:\n",
        "    print(\"세자리 숫자만 가능합니다\")\n",
        "\n"
      ],
      "metadata": {
        "colab": {
          "base_uri": "https://localhost:8080/"
        },
        "outputId": "7f39b7fe-dd8c-4073-9be9-fc21663f08a4",
        "id": "pglxD-_HDXkI"
      },
      "execution_count": null,
      "outputs": [
        {
          "output_type": "stream",
          "name": "stdout",
          "text": [
            "472\n",
            "385\n",
            "2360\n",
            "3776\n",
            "1416\n",
            "181720\n"
          ]
        }
      ]
    }
  ]
}
